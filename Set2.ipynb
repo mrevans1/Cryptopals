{
 "cells": [
  {
   "cell_type": "code",
   "execution_count": 1,
   "metadata": {
    "collapsed": true
   },
   "outputs": [],
   "source": [
    "#Set 2"
   ]
  },
  {
   "cell_type": "code",
   "execution_count": 2,
   "metadata": {
    "collapsed": true
   },
   "outputs": [],
   "source": [
    "#P9"
   ]
  },
  {
   "cell_type": "code",
   "execution_count": 3,
   "metadata": {
    "collapsed": true
   },
   "outputs": [],
   "source": [
    "block = b\"YELLOW SUBMARINE\""
   ]
  },
  {
   "cell_type": "code",
   "execution_count": 4,
   "metadata": {
    "collapsed": false
   },
   "outputs": [],
   "source": [
    "padding = (20 - len(block)%20)*'\\x04'"
   ]
  },
  {
   "cell_type": "code",
   "execution_count": 5,
   "metadata": {
    "collapsed": false
   },
   "outputs": [
    {
     "data": {
      "text/plain": [
       "'YELLOW SUBMARINE\\x04\\x04\\x04\\x04'"
      ]
     },
     "execution_count": 5,
     "metadata": {},
     "output_type": "execute_result"
    }
   ],
   "source": [
    "block + padding"
   ]
  },
  {
   "cell_type": "code",
   "execution_count": 6,
   "metadata": {
    "collapsed": true
   },
   "outputs": [],
   "source": [
    "#P10"
   ]
  },
  {
   "cell_type": "code",
   "execution_count": 7,
   "metadata": {
    "collapsed": false
   },
   "outputs": [],
   "source": [
    "import urllib2\n",
    "from Crypto.Cipher import AES\n",
    "import sys\n",
    "sys.path.append( 'Set1' )\n",
    "from P5 import repkeyxor"
   ]
  },
  {
   "cell_type": "code",
   "execution_count": 125,
   "metadata": {
    "collapsed": true
   },
   "outputs": [],
   "source": [
    "url = 'http://cryptopals.com/static/challenge-data/10.txt'"
   ]
  },
  {
   "cell_type": "code",
   "execution_count": 126,
   "metadata": {
    "collapsed": true
   },
   "outputs": [],
   "source": [
    "text = urllib2.urlopen(url).read()"
   ]
  },
  {
   "cell_type": "code",
   "execution_count": 127,
   "metadata": {
    "collapsed": false
   },
   "outputs": [],
   "source": [
    "text = ''.join(text.split()).decode('base64')"
   ]
  },
  {
   "cell_type": "code",
   "execution_count": 128,
   "metadata": {
    "collapsed": false
   },
   "outputs": [],
   "source": [
    "key = \"YELLOW SUBMARINE\"\n",
    "iv = '\\x00'*16"
   ]
  },
  {
   "cell_type": "code",
   "execution_count": 119,
   "metadata": {
    "collapsed": false
   },
   "outputs": [],
   "source": [
    "cipher = AES.new(key, AES.MODE_ECB)"
   ]
  },
  {
   "cell_type": "markdown",
   "metadata": {},
   "source": [
    "CBC mode is pretty similar to ECB mode; the difference is described on wikipedia. The first 16-byte block gets decrypted by ECB, then XORed with the IV. To do this, I reused my repeating-key-xor code.\n",
    "Following blocks are decoded by ECB, and then XORed with the previous encrypted block."
   ]
  },
  {
   "cell_type": "code",
   "execution_count": 120,
   "metadata": {
    "collapsed": false
   },
   "outputs": [],
   "source": [
    "plaintext = \"\"\n",
    "plaintext += repkeyxor(cipher.decrypt(text[:16]), iv).decode('hex')\n",
    "for i in range(1,len(text)/16):\n",
    "    plaintext += repkeyxor(cipher.decrypt(text[16*i:16*i + 16]), text[16*i - 16:16*i]).decode('hex')"
   ]
  },
  {
   "cell_type": "code",
   "execution_count": 121,
   "metadata": {
    "collapsed": false
   },
   "outputs": [
    {
     "name": "stdout",
     "output_type": "stream",
     "text": [
      "I'm back and I'm ringin' the bell \n",
      "A rockin' on the mike while the fly girls yell \n",
      "In ecstasy in the back of me \n",
      "Well that's my DJ Deshay cuttin' all them Z's \n",
      "Hittin' hard and the girlies goin' crazy \n",
      "Vanilla's on the mike, man I'm not lazy. \n",
      "\n",
      "I'm lettin' my drug kick in \n",
      "It controls my mouth and I begin \n",
      "To just let it flow, let my concepts go \n",
      "My posse's to the side yellin', Go Vanilla Go! \n",
      "\n",
      "Smooth 'cause that's the way I will be \n",
      "And if you don't give a damn, then \n",
      "Why you starin' at me \n",
      "So get off 'cause I control the stage \n",
      "There's no dissin' allowed \n",
      "I'm in my own phase \n",
      "The girlies sa y they love me and that is ok \n",
      "And I can dance better than any kid n' play \n",
      "\n",
      "Stage 2 -- Yea the one ya' wanna listen to \n",
      "It's off my head so let the beat play through \n",
      "So I can funk it up and make it sound good \n",
      "1-2-3 Yo -- Knock on some wood \n",
      "For good luck, I like my rhymes atrocious \n",
      "Supercalafragilisticexpialidocious \n",
      "I'm an effect and that you can bet \n",
      "I can take a fly girl and make her wet. \n",
      "\n",
      "I'm like Samson -- Samson to Delilah \n",
      "There's no denyin', You can try to hang \n",
      "But you'll keep tryin' to get my style \n",
      "Over and over, practice makes perfect \n",
      "But not if you're a loafer. \n",
      "\n",
      "You'll get nowhere, no place, no time, no girls \n",
      "Soon -- Oh my God, homebody, you probably eat \n",
      "Spaghetti with a spoon! Come on and say it! \n",
      "\n",
      "VIP. Vanilla Ice yep, yep, I'm comin' hard like a rhino \n",
      "Intoxicating so you stagger like a wino \n",
      "So punks stop trying and girl stop cryin' \n",
      "Vanilla Ice is sellin' and you people are buyin' \n",
      "'Cause why the freaks are jockin' like Crazy Glue \n",
      "Movin' and groovin' trying to sing along \n",
      "All through the ghetto groovin' this here song \n",
      "Now you're amazed by the VIP posse. \n",
      "\n",
      "Steppin' so hard like a German Nazi \n",
      "Startled by the bases hittin' ground \n",
      "There's no trippin' on mine, I'm just gettin' down \n",
      "Sparkamatic, I'm hangin' tight like a fanatic \n",
      "You trapped me once and I thought that \n",
      "You might have it \n",
      "So step down and lend me your ear \n",
      "'89 in my time! You, '90 is my year. \n",
      "\n",
      "You're weakenin' fast, YO! and I can tell it \n",
      "Your body's gettin' hot, so, so I can smell it \n",
      "So don't be mad and don't be sad \n",
      "'Cause the lyrics belong to ICE, You can call me Dad \n",
      "You're pitchin' a fit, so step back and endure \n",
      "Let the witch doctor, Ice, do the dance to cure \n",
      "So come up close and don't be square \n",
      "You wanna battle me -- Anytime, anywhere \n",
      "\n",
      "You thought that I was weak, Boy, you're dead wrong \n",
      "So come on, everybody and sing this song \n",
      "\n",
      "Say -- Play that funky music Say, go white boy, go white boy go \n",
      "play that funky music Go white boy, go white boy, go \n",
      "Lay down and boogie and play that funky music till you die. \n",
      "\n",
      "Play that funky music Come on, Come on, let me hear \n",
      "Play that funky music white boy you say it, say it \n",
      "Play that funky music A little louder now \n",
      "Play that funky music, white boy Come on, Come on, Come on \n",
      "Play that funky music \n",
      "\u0004\u0004\u0004\u0004\n"
     ]
    }
   ],
   "source": [
    "print plaintext"
   ]
  },
  {
   "cell_type": "code",
   "execution_count": 131,
   "metadata": {
    "collapsed": true
   },
   "outputs": [],
   "source": [
    "#P11"
   ]
  },
  {
   "cell_type": "code",
   "execution_count": 15,
   "metadata": {
    "collapsed": false
   },
   "outputs": [],
   "source": [
    "import random"
   ]
  },
  {
   "cell_type": "code",
   "execution_count": 132,
   "metadata": {
    "collapsed": false
   },
   "outputs": [],
   "source": [
    "def generate_key():\n",
    "    '''Generates a random 16-byte key'''\n",
    "    key = \"\"\n",
    "    for i in range(16):\n",
    "        key += chr(random.randint(0,255))\n",
    "    return key"
   ]
  },
  {
   "cell_type": "code",
   "execution_count": 133,
   "metadata": {
    "collapsed": false
   },
   "outputs": [],
   "source": [
    "def encryption_oracle(plaintext):\n",
    "    '''This function generates a random key, and uses it to randomly create either an ECB or CBC\n",
    "    cipher. It then uses this cipher to encrypt a string which is input, after adding padding.'''\n",
    "    key = generate_key()\n",
    "    left_padding = random.randint(5,10)*chr(0)\n",
    "    right_padding = random.randint(5,10)*chr(0)\n",
    "    if random.randint(0,1) == 0:\n",
    "        cipher = AES.new(key, AES.MODE_ECB)\n",
    "    else:\n",
    "        cipher = AES.new(key, AES.MODE_CBC, generate_key())\n",
    "    text = left_padding+plaintext+right_padding\n",
    "    PKCS_padding = (16 - len(text)%16)*'\\x04'\n",
    "    return cipher.encrypt(text+PKCS_padding)"
   ]
  },
  {
   "cell_type": "code",
   "execution_count": 140,
   "metadata": {
    "collapsed": false
   },
   "outputs": [],
   "source": [
    "def detect_ECB(ciphertext):\n",
    "    '''This returns \"True\" when given a string encrypted by ECB. It requires the string to be at least\n",
    "    length 36. It may fail by chance in the very rare (1 in 8**16) case when different blocks are CBC\n",
    "    encrypted into the same ciphertext.'''\n",
    "    assert len(ciphertext) > 36\n",
    "    block = ciphertext[16:32]\n",
    "    return block == ciphertext[32:48]"
   ]
  },
  {
   "cell_type": "code",
   "execution_count": 144,
   "metadata": {
    "collapsed": false
   },
   "outputs": [
    {
     "name": "stdout",
     "output_type": "stream",
     "text": [
      "True\n",
      "False\n",
      "False\n",
      "True\n",
      "False\n",
      "False\n",
      "False\n",
      "True\n",
      "True\n",
      "True\n"
     ]
    }
   ],
   "source": [
    "for i in range(10):\n",
    "    print detect_ECB(encryption_oracle(chr(0)*16*4))"
   ]
  },
  {
   "cell_type": "code",
   "execution_count": 20,
   "metadata": {
    "collapsed": true
   },
   "outputs": [],
   "source": [
    "#P12"
   ]
  },
  {
   "cell_type": "code",
   "execution_count": 21,
   "metadata": {
    "collapsed": false
   },
   "outputs": [],
   "source": [
    "global string\n",
    "string = ''.join(\"\"\"Um9sbGluJyBpbiBteSA1LjAKV2l0aCBteSByYWctdG9wIGRvd24gc28gbXkg\n",
    "aGFpciBjYW4gYmxvdwpUaGUgZ2lybGllcyBvbiBzdGFuZGJ5IHdhdmluZyBq\n",
    "dXN0IHRvIHNheSBoaQpEaWQgeW91IHN0b3A/IE5vLCBJIGp1c3QgZHJvdmUg\n",
    "YnkK\"\"\".split())\n",
    "global key\n",
    "key = generate_key()"
   ]
  },
  {
   "cell_type": "code",
   "execution_count": 145,
   "metadata": {
    "collapsed": true
   },
   "outputs": [],
   "source": [
    "def consistent_encryption_oracle(plaintext):\n",
    "    '''Given a constant (global) key and encrypted string, this function takes the input and\n",
    "    appends the string, then encrypts the result using ECB.'''\n",
    "    right_padding = string.decode('base64')\n",
    "    cipher = AES.new(key, AES.MODE_ECB)\n",
    "    text = plaintext+right_padding\n",
    "    PKCS_padding = (16 - len(text)%16)*'\\x04'\n",
    "    return cipher.encrypt(text+PKCS_padding)"
   ]
  },
  {
   "cell_type": "code",
   "execution_count": 146,
   "metadata": {
    "collapsed": false
   },
   "outputs": [
    {
     "data": {
      "text/plain": [
       "'\\xe4@\\x85\\xfa+\\xda3\\xd8j\\xa3@\\xb4\\xc1l\\x05\\xad'"
      ]
     },
     "execution_count": 146,
     "metadata": {},
     "output_type": "execute_result"
    }
   ],
   "source": [
    "input = \"A\"*16\n",
    "consistent_encryption_oracle(input)[:16]"
   ]
  },
  {
   "cell_type": "code",
   "execution_count": 147,
   "metadata": {
    "collapsed": false
   },
   "outputs": [
    {
     "data": {
      "text/plain": [
       "'\\xe4@\\x85\\xfa+\\xda3\\xd8j\\xa3@\\xb4\\xc1l\\x05\\xadr\\xe3\\x94i\\x00\\x13\\xb7\\xce\\xe4\\x00\\xdd\\xc7\\xd0\\xc4\\xc9;\\xf7Ij\\xa4J\\xa3\\x8b\\x1c\\noC!\\xb5qr\\x1a\\xf9\\xea26\\x1e\\xc9\\xf9\\xa1ij\\x1f\\x1c$\\xd7B6q\\x8a\\xb3~\\x81\\xc2P\\xa4\\xca\\x97\\xaa\\xf9]\\x88\\xf5\\xc3\\xf5\\xc3\\xf5L]\\x10\\x9d\\xa5\\xe3\\x803\\xe4\\xc5\\xda\\xf8\\x9d\\xaex\\xbcE\\xed\\xb4\\xdc\\xf5}/\\x1f\\xe9\\xaf\\xde\\x93\\xf4\\xccho\\xc0`\\x94N\\xb8\\xc5B\\xb2\\xa1\\xbe\\xac\\x11`\\xccYN\\xde\\xf8\\xf3^\\xa1\\x8a\\xa9\\xb3\\xe0\\xbb\\xf4Ud&\\x04\\xc2\\xa8\\x9b\\xc4B[jz~E\\x81\\x02\\xe7}'"
      ]
     },
     "execution_count": 147,
     "metadata": {},
     "output_type": "execute_result"
    }
   ],
   "source": [
    "consistent_encryption_oracle(input)"
   ]
  },
  {
   "cell_type": "code",
   "execution_count": 148,
   "metadata": {
    "collapsed": false
   },
   "outputs": [
    {
     "data": {
      "text/plain": [
       "';\\x1e\\t\\xf0\\xd9\\x95\\xf2\\x82L\\xc8.\\x12\\xdd\\xa5\\xf2\\x91'"
      ]
     },
     "execution_count": 148,
     "metadata": {},
     "output_type": "execute_result"
    }
   ],
   "source": [
    "input = \"A\"*15\n",
    "consistent_encryption_oracle(input)[:16]"
   ]
  },
  {
   "cell_type": "code",
   "execution_count": 149,
   "metadata": {
    "collapsed": false
   },
   "outputs": [
    {
     "name": "stdout",
     "output_type": "stream",
     "text": [
      "82\n"
     ]
    }
   ],
   "source": [
    "for i in range(256):\n",
    "    if consistent_encryption_oracle(\"A\"*15+chr(i))[:16] == consistent_encryption_oracle(\"A\"*15)[:16]:\n",
    "        print i"
   ]
  },
  {
   "cell_type": "code",
   "execution_count": 150,
   "metadata": {
    "collapsed": false
   },
   "outputs": [
    {
     "data": {
      "text/plain": [
       "'R'"
      ]
     },
     "execution_count": 150,
     "metadata": {},
     "output_type": "execute_result"
    }
   ],
   "source": [
    "chr(82)"
   ]
  },
  {
   "cell_type": "markdown",
   "metadata": {},
   "source": [
    "If the input is 15 characters long, the first byte of the secret string will be encrypted together with my 15 character input."
   ]
  },
  {
   "cell_type": "code",
   "execution_count": 28,
   "metadata": {
    "collapsed": false
   },
   "outputs": [
    {
     "name": "stdout",
     "output_type": "stream",
     "text": [
      "111\n"
     ]
    }
   ],
   "source": [
    "for i in range(256):\n",
    "    if consistent_encryption_oracle(\"A\"*14+\"R\"+chr(i))[:16] == consistent_encryption_oracle(\"A\"*14)[:16]:\n",
    "        print i"
   ]
  },
  {
   "cell_type": "code",
   "execution_count": 151,
   "metadata": {
    "collapsed": false
   },
   "outputs": [
    {
     "name": "stdout",
     "output_type": "stream",
     "text": [
      "R\n",
      "o\n",
      "l\n",
      "l\n",
      "i\n",
      "n\n",
      "'\n",
      " \n",
      "i\n",
      "n\n",
      " \n",
      "m\n",
      "y\n",
      " \n",
      "5\n",
      ".\n"
     ]
    }
   ],
   "source": [
    "inputl = \"A\"*16\n",
    "inputr = \"A\"*16\n",
    "for b in range(16):\n",
    "    inputl = inputl[1:]\n",
    "    inputr = inputr[1:]\n",
    "    for i in range(256):\n",
    "        if consistent_encryption_oracle(inputl+chr(i))[:16] == consistent_encryption_oracle(inputr)[:16]:\n",
    "            char = chr(i)\n",
    "            print char\n",
    "            inputl += char\n",
    "            break"
   ]
  },
  {
   "cell_type": "markdown",
   "metadata": {},
   "source": [
    "By decreasing the length of my input, I can guess at the secret character within 256 tries. Now, I can guess at the contents of the string in linear time, rather than exponential.\n",
    "\n",
    "Next, we have to apply this to the following blocks. This is a little tricky; instead of an arbitrary 15-byte (or less) input, we have to use the previous block that we decrypted."
   ]
  },
  {
   "cell_type": "code",
   "execution_count": 102,
   "metadata": {
    "collapsed": false
   },
   "outputs": [
    {
     "name": "stdout",
     "output_type": "stream",
     "text": [
      "Rollin' in my 5.0\n",
      "With my rag-top down so my hair can blow\n",
      "The girlies on standby waving just to say hi\n",
      "Did you stop? No, I just drove by\n",
      "\u0004\u0004\u0004\u0004\u0004\u0004\n"
     ]
    }
   ],
   "source": [
    "plaintext = \"\"\n",
    "previous_block = \"A\"*16\n",
    "n = 0\n",
    "while len(plaintext) < len(consistent_encryption_oracle(\"\")):\n",
    "    inputl = previous_block\n",
    "    inputr = \"A\"*16\n",
    "    for b in range(16):\n",
    "        inputl = inputl[1:]\n",
    "        inputr = inputr[1:]\n",
    "        for i in range(256):\n",
    "            if consistent_encryption_oracle(inputl+chr(i))[:16] == consistent_encryption_oracle(inputr)[16*n:16*n+16]:\n",
    "                char = chr(i)\n",
    "                inputl += char\n",
    "                break\n",
    "    previous_block = inputl+\"\"\n",
    "    plaintext += inputl\n",
    "    n += 1\n",
    "\n",
    "print plaintext"
   ]
  },
  {
   "cell_type": "markdown",
   "metadata": {},
   "source": [
    "Let's see if we were successful:"
   ]
  },
  {
   "cell_type": "code",
   "execution_count": 104,
   "metadata": {
    "collapsed": false
   },
   "outputs": [
    {
     "name": "stdout",
     "output_type": "stream",
     "text": [
      "Rollin' in my 5.0\n",
      "With my rag-top down so my hair can blow\n",
      "The girlies on standby waving just to say hi\n",
      "Did you stop? No, I just drove by\n",
      "\n"
     ]
    }
   ],
   "source": [
    "print string.decode('base64')"
   ]
  },
  {
   "cell_type": "code",
   "execution_count": 105,
   "metadata": {
    "collapsed": true
   },
   "outputs": [],
   "source": [
    "#P13"
   ]
  },
  {
   "cell_type": "code",
   "execution_count": null,
   "metadata": {
    "collapsed": true
   },
   "outputs": [],
   "source": []
  }
 ],
 "metadata": {
  "kernelspec": {
   "display_name": "Python 2",
   "language": "python",
   "name": "python2"
  },
  "language_info": {
   "codemirror_mode": {
    "name": "ipython",
    "version": 2
   },
   "file_extension": ".py",
   "mimetype": "text/x-python",
   "name": "python",
   "nbconvert_exporter": "python",
   "pygments_lexer": "ipython2",
   "version": "2.7.11"
  }
 },
 "nbformat": 4,
 "nbformat_minor": 0
}
